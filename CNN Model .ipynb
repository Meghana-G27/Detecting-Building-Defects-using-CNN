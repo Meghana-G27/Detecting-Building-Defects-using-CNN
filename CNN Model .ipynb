{
 "cells": [
  {
   "cell_type": "markdown",
   "metadata": {},
   "source": [
    "# Importing Libraries"
   ]
  },
  {
   "cell_type": "code",
   "execution_count": 1,
   "metadata": {},
   "outputs": [],
   "source": [
    "from tensorflow.keras.models import Sequential#ti initialize model\n",
    "from tensorflow.keras.layers import Dense#adding layers\n",
    "from tensorflow.keras.layers import Conv2D\n",
    "from tensorflow.keras.layers import MaxPool2D\n",
    "from tensorflow.keras.layers import Flatten"
   ]
  },
  {
   "cell_type": "markdown",
   "metadata": {},
   "source": [
    "# Initializing the model"
   ]
  },
  {
   "cell_type": "code",
   "execution_count": 2,
   "metadata": {},
   "outputs": [],
   "source": [
    "model=Sequential()"
   ]
  },
  {
   "cell_type": "markdown",
   "metadata": {},
   "source": [
    "# Adding a CNN Layers:\n"
   ]
  },
  {
   "cell_type": "markdown",
   "metadata": {},
   "source": [
    "# Adding Convolution Layer"
   ]
  },
  {
   "cell_type": "code",
   "execution_count": 3,
   "metadata": {},
   "outputs": [],
   "source": [
    "model.add(Conv2D(32,3,3,input_shape=(64,64,3),activation=\"relu\"))"
   ]
  },
  {
   "cell_type": "markdown",
   "metadata": {},
   "source": [
    "# Adding Pooling Layer"
   ]
  },
  {
   "cell_type": "code",
   "execution_count": 4,
   "metadata": {},
   "outputs": [],
   "source": [
    "model.add(MaxPool2D(pool_size=(2,2)))"
   ]
  },
  {
   "cell_type": "markdown",
   "metadata": {},
   "source": [
    "# Add Flatten layer"
   ]
  },
  {
   "cell_type": "code",
   "execution_count": 5,
   "metadata": {},
   "outputs": [],
   "source": [
    "model.add(Flatten())"
   ]
  },
  {
   "cell_type": "markdown",
   "metadata": {},
   "source": [
    "# Adding Dense Layers:"
   ]
  },
  {
   "cell_type": "code",
   "execution_count": 6,
   "metadata": {},
   "outputs": [],
   "source": [
    "model.add(Dense(units=128,activation=\"relu\",kernel_initializer=\"random_uniform\"))"
   ]
  },
  {
   "cell_type": "code",
   "execution_count": 7,
   "metadata": {},
   "outputs": [],
   "source": [
    "model.add(Dense(units=1,activation=\"sigmoid\",kernel_initializer=\"random_uniform\"))"
   ]
  },
  {
   "cell_type": "markdown",
   "metadata": {},
   "source": [
    "# Configureing the Learning Process"
   ]
  },
  {
   "cell_type": "code",
   "execution_count": 8,
   "metadata": {},
   "outputs": [],
   "source": [
    "model.compile(optimizer=\"adam\",loss=\"binary_crossentropy\",metrics=[\"accuracy\"])"
   ]
  },
  {
   "cell_type": "markdown",
   "metadata": {},
   "source": [
    "# Train and Test Model"
   ]
  },
  {
   "cell_type": "code",
   "execution_count": 9,
   "metadata": {},
   "outputs": [
    {
     "name": "stderr",
     "output_type": "stream",
     "text": [
      "Using TensorFlow backend.\n"
     ]
    }
   ],
   "source": [
    "from keras.preprocessing.image import ImageDataGenerator"
   ]
  },
  {
   "cell_type": "code",
   "execution_count": 10,
   "metadata": {},
   "outputs": [],
   "source": [
    "train_set=ImageDataGenerator(rescale=1./255,shear_range=0.2,zoom_range=0.2,horizontal_flip=True)\n",
    "test_set=ImageDataGenerator(rescale=1./255)"
   ]
  },
  {
   "cell_type": "code",
   "execution_count": 11,
   "metadata": {},
   "outputs": [
    {
     "name": "stdout",
     "output_type": "stream",
     "text": [
      "Found 328 images belonging to 2 classes.\n",
      "Found 50 images belonging to 2 classes.\n"
     ]
    }
   ],
   "source": [
    "x_train=train_set.flow_from_directory(r'C:\\Users\\MEGHANASANJANAGOLI\\Desktop\\team 21\\train set',target_size=(64,64),batch_size=32,class_mode=\"binary\")\n",
    "x_test=test_set.flow_from_directory(r\"C:\\Users\\MEGHANASANJANAGOLI\\Desktop\\team 21\\test set\",target_size=(64,64),batch_size=32,class_mode=\"binary\")"
   ]
  },
  {
   "cell_type": "code",
   "execution_count": 12,
   "metadata": {},
   "outputs": [
    {
     "name": "stdout",
     "output_type": "stream",
     "text": [
      "{'Defected': 0, 'Undefected': 1}\n"
     ]
    }
   ],
   "source": [
    "print(x_train.class_indices)"
   ]
  },
  {
   "cell_type": "code",
   "execution_count": 13,
   "metadata": {},
   "outputs": [
    {
     "name": "stdout",
     "output_type": "stream",
     "text": [
      "Epoch 1/10\n",
      "500/500 [==============================] - 237s 473ms/step - loss: 0.3094 - accuracy: 0.8523 - val_loss: 0.1221 - val_accuracy: 0.9800\n",
      "Epoch 2/10\n",
      "500/500 [==============================] - 238s 476ms/step - loss: 0.1571 - accuracy: 0.9315 - val_loss: 0.1081 - val_accuracy: 0.9800\n",
      "Epoch 3/10\n",
      "500/500 [==============================] - 240s 481ms/step - loss: 0.1104 - accuracy: 0.9525 - val_loss: 0.1215 - val_accuracy: 0.9800\n",
      "Epoch 4/10\n",
      "500/500 [==============================] - 234s 468ms/step - loss: 0.0946 - accuracy: 0.9597 - val_loss: 0.1481 - val_accuracy: 0.9600\n",
      "Epoch 5/10\n",
      "500/500 [==============================] - 236s 472ms/step - loss: 0.0825 - accuracy: 0.9638 - val_loss: 0.1315 - val_accuracy: 0.9600\n",
      "Epoch 6/10\n",
      "500/500 [==============================] - 236s 471ms/step - loss: 0.0548 - accuracy: 0.9778 - val_loss: 0.2114 - val_accuracy: 0.9600\n",
      "Epoch 7/10\n",
      "500/500 [==============================] - 239s 477ms/step - loss: 0.0582 - accuracy: 0.9766 - val_loss: 0.3648 - val_accuracy: 0.9600\n",
      "Epoch 8/10\n",
      "500/500 [==============================] - 234s 469ms/step - loss: 0.0449 - accuracy: 0.9832 - val_loss: 0.3000 - val_accuracy: 0.9600\n",
      "Epoch 9/10\n",
      "500/500 [==============================] - 236s 472ms/step - loss: 0.0519 - accuracy: 0.9806 - val_loss: 0.2978 - val_accuracy: 0.9600\n",
      "Epoch 10/10\n",
      "500/500 [==============================] - 232s 464ms/step - loss: 0.0315 - accuracy: 0.9877 - val_loss: 0.3328 - val_accuracy: 0.9600\n"
     ]
    },
    {
     "data": {
      "text/plain": [
       "<tensorflow.python.keras.callbacks.History at 0x18dbc7d7848>"
      ]
     },
     "execution_count": 13,
     "metadata": {},
     "output_type": "execute_result"
    }
   ],
   "source": [
    "model.fit_generator(x_train,steps_per_epoch=500,validation_data=x_test,epochs=10,validation_steps=100)"
   ]
  },
  {
   "cell_type": "markdown",
   "metadata": {},
   "source": [
    "# Save the model"
   ]
  },
  {
   "cell_type": "code",
   "execution_count": 15,
   "metadata": {},
   "outputs": [],
   "source": [
    "model.save(\"testmodel.h5\")"
   ]
  },
  {
   "cell_type": "code",
   "execution_count": null,
   "metadata": {},
   "outputs": [],
   "source": []
  }
 ],
 "metadata": {
  "kernelspec": {
   "display_name": "Python 3",
   "language": "python",
   "name": "python3"
  },
  "language_info": {
   "codemirror_mode": {
    "name": "ipython",
    "version": 3
   },
   "file_extension": ".py",
   "mimetype": "text/x-python",
   "name": "python",
   "nbconvert_exporter": "python",
   "pygments_lexer": "ipython3",
   "version": "3.7.7"
  }
 },
 "nbformat": 4,
 "nbformat_minor": 2
}
